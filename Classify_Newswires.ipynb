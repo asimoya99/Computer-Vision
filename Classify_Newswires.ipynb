{
  "nbformat": 4,
  "nbformat_minor": 0,
  "metadata": {
    "colab": {
      "name": "Classify Newswires.ipynb",
      "provenance": [],
      "authorship_tag": "ABX9TyMMFmU0IdcpO6RRoNBzjJKV",
      "include_colab_link": true
    },
    "kernelspec": {
      "name": "python3",
      "display_name": "Python 3"
    },
    "accelerator": "GPU"
  },
  "cells": [
    {
      "cell_type": "markdown",
      "metadata": {
        "id": "view-in-github",
        "colab_type": "text"
      },
      "source": [
        "<a href=\"https://colab.research.google.com/github/asimoya99/Computer-Vision/blob/master/Classify_Newswires.ipynb\" target=\"_parent\"><img src=\"https://colab.research.google.com/assets/colab-badge.svg\" alt=\"Open In Colab\"/></a>"
      ]
    },
    {
      "cell_type": "code",
      "metadata": {
        "id": "LTrX31UAycud",
        "colab_type": "code",
        "colab": {}
      },
      "source": [
        "# multiclass classification example\n",
        "from  tensorflow.keras.datasets import reuters\n"
      ],
      "execution_count": 0,
      "outputs": []
    },
    {
      "cell_type": "code",
      "metadata": {
        "id": "cFoF-EeTyzpA",
        "colab_type": "code",
        "colab": {}
      },
      "source": [
        "(train_data, train_labels),(test_data, test_labels) = reuters.load_data(num_words= 10000)"
      ],
      "execution_count": 0,
      "outputs": []
    },
    {
      "cell_type": "code",
      "metadata": {
        "id": "cooLDGvFzOa8",
        "colab_type": "code",
        "colab": {}
      },
      "source": [
        "# encoding newswires back to text\n",
        "word_index = reuters.get_word_index()\n",
        "reverse_word_index = dict([(value, key) for (key, value) in word_index.items()])\n",
        "decoded_newswire = ' '.join([reverse_word_index.get(i-3,'?') for i in train_data[0]])\n"
      ],
      "execution_count": 0,
      "outputs": []
    },
    {
      "cell_type": "code",
      "metadata": {
        "id": "L8q8y2Vuz1k4",
        "colab_type": "code",
        "colab": {}
      },
      "source": [
        "import numpy as np\n",
        "# enocode the data\n",
        "def vectorize_sequences(sequences, dimension = 10000):\n",
        "  results = np.zeros((len(sequences), dimension))\n",
        "  for i, sequence in enumerate(sequences):\n",
        "    results[i, sequence]  = 1\n",
        "  return results"
      ],
      "execution_count": 0,
      "outputs": []
    },
    {
      "cell_type": "code",
      "metadata": {
        "id": "Fx7XPK2L0P9n",
        "colab_type": "code",
        "colab": {}
      },
      "source": [
        "# vectorize the training and the test data\n",
        "x_train = vectorize_sequences(train_data)\n",
        "x_test = vectorize_sequences(test_data)"
      ],
      "execution_count": 0,
      "outputs": []
    },
    {
      "cell_type": "code",
      "metadata": {
        "id": "1-W9dFIY0d6Y",
        "colab_type": "code",
        "colab": {}
      },
      "source": [
        "# one hot encoding for labels\n",
        "def to_one_hot(labels, dimension = 46):\n",
        "  results = np.zeros((len(labels), dimension))\n",
        "  for i, label in enumerate(labels):\n",
        "    results[i, label] = 1\n",
        "  return results"
      ],
      "execution_count": 0,
      "outputs": []
    },
    {
      "cell_type": "code",
      "metadata": {
        "id": "aB9fHWye1Are",
        "colab_type": "code",
        "colab": {}
      },
      "source": [
        "# vectorized training labels and test labels\n",
        "one_hot_train_labels = to_one_hot(train_labels)\n",
        "one_hot_test_labels = to_one_hot(test_labels)"
      ],
      "execution_count": 0,
      "outputs": []
    },
    {
      "cell_type": "code",
      "metadata": {
        "id": "vkN0vABC1MwJ",
        "colab_type": "code",
        "colab": {
          "base_uri": "https://localhost:8080/",
          "height": 54
        },
        "outputId": "18ad2ec7-f62c-4608-904e-537e08b6a411"
      },
      "source": [
        "'''# using the built in to_categorical for one_hot_encoding\n",
        "\n",
        "from keras.utils.np_utils import to_categorical\n",
        "one_hot_train_labels = to_categorical(train_labels)\n",
        "one_hot_test_labels = to_categorical(test_labels)'''"
      ],
      "execution_count": 56,
      "outputs": [
        {
          "output_type": "execute_result",
          "data": {
            "text/plain": [
              "'# using the built in to_categorical for one_hot_encoding\\n\\nfrom keras.utils.np_utils import to_categorical\\none_hot_train_labels = to_categorical(train_labels)\\none_hot_test_labels = to_categorical(test_labels)'"
            ]
          },
          "metadata": {
            "tags": []
          },
          "execution_count": 56
        }
      ]
    },
    {
      "cell_type": "code",
      "metadata": {
        "id": "hVMyBms11wTN",
        "colab_type": "code",
        "colab": {}
      },
      "source": [
        "# model definition\n",
        "from tensorflow.keras.models import Sequential\n",
        "from tensorflow.keras.layers import Dense, Activation\n"
      ],
      "execution_count": 0,
      "outputs": []
    },
    {
      "cell_type": "code",
      "metadata": {
        "id": "Qag1ojSu2OOM",
        "colab_type": "code",
        "colab": {}
      },
      "source": [
        "model = Sequential()\n",
        "model.add(Dense(64, activation='relu', input_shape= (10000,)))\n",
        "model.add(Dense(64, activation = 'relu'))\n",
        "model.add(Dense(46, activation='softmax'))\n"
      ],
      "execution_count": 0,
      "outputs": []
    },
    {
      "cell_type": "code",
      "metadata": {
        "id": "o259FY252pPE",
        "colab_type": "code",
        "colab": {}
      },
      "source": [
        "# compile the model\n",
        " model.compile(optimizer='rmsprop',loss = 'categorical_crossentropy', metrics = ['accuracy'])\n",
        " "
      ],
      "execution_count": 0,
      "outputs": []
    },
    {
      "cell_type": "code",
      "metadata": {
        "id": "MAjrVytM26KV",
        "colab_type": "code",
        "colab": {}
      },
      "source": [
        "# setting aside a validation set \n",
        "x_val = x_train[:1000]\n",
        "partial_x_train = x_train[1000:]\n",
        "y_val = one_hot_train_labels[:1000]\n",
        "partial_y_train = one_hot_train_labels[1000:]"
      ],
      "execution_count": 0,
      "outputs": []
    },
    {
      "cell_type": "code",
      "metadata": {
        "id": "iPqb_83V3GcJ",
        "colab_type": "code",
        "colab": {
          "base_uri": "https://localhost:8080/",
          "height": 717
        },
        "outputId": "3a3113ca-9a43-4834-ff13-a60175fe3c03"
      },
      "source": [
        "history = model.fit(partial_x_train, partial_y_train,\n",
        "                    epochs=20,\n",
        "                    batch_size=512,\n",
        "                    validation_data=(x_val, y_val))"
      ],
      "execution_count": 61,
      "outputs": [
        {
          "output_type": "stream",
          "text": [
            "Epoch 1/20\n",
            "16/16 [==============================] - 0s 20ms/step - loss: 2.5660 - accuracy: 0.5644 - val_loss: 1.7291 - val_accuracy: 0.6740\n",
            "Epoch 2/20\n",
            "16/16 [==============================] - 0s 16ms/step - loss: 1.3878 - accuracy: 0.7161 - val_loss: 1.3314 - val_accuracy: 0.7220\n",
            "Epoch 3/20\n",
            "16/16 [==============================] - 0s 16ms/step - loss: 1.0419 - accuracy: 0.7737 - val_loss: 1.1607 - val_accuracy: 0.7540\n",
            "Epoch 4/20\n",
            "16/16 [==============================] - 0s 15ms/step - loss: 0.8204 - accuracy: 0.8206 - val_loss: 1.0575 - val_accuracy: 0.7800\n",
            "Epoch 5/20\n",
            "16/16 [==============================] - 0s 15ms/step - loss: 0.6459 - accuracy: 0.8633 - val_loss: 0.9857 - val_accuracy: 0.7980\n",
            "Epoch 6/20\n",
            "16/16 [==============================] - 0s 16ms/step - loss: 0.5166 - accuracy: 0.8931 - val_loss: 0.9262 - val_accuracy: 0.8120\n",
            "Epoch 7/20\n",
            "16/16 [==============================] - 0s 15ms/step - loss: 0.4157 - accuracy: 0.9177 - val_loss: 0.9081 - val_accuracy: 0.8140\n",
            "Epoch 8/20\n",
            "16/16 [==============================] - 0s 14ms/step - loss: 0.3359 - accuracy: 0.9292 - val_loss: 0.9088 - val_accuracy: 0.8190\n",
            "Epoch 9/20\n",
            "16/16 [==============================] - 0s 15ms/step - loss: 0.2813 - accuracy: 0.9395 - val_loss: 0.9159 - val_accuracy: 0.8140\n",
            "Epoch 10/20\n",
            "16/16 [==============================] - 0s 15ms/step - loss: 0.2308 - accuracy: 0.9461 - val_loss: 0.9402 - val_accuracy: 0.8200\n",
            "Epoch 11/20\n",
            "16/16 [==============================] - 0s 15ms/step - loss: 0.2054 - accuracy: 0.9508 - val_loss: 0.9765 - val_accuracy: 0.8050\n",
            "Epoch 12/20\n",
            "16/16 [==============================] - 0s 16ms/step - loss: 0.1825 - accuracy: 0.9518 - val_loss: 1.0082 - val_accuracy: 0.8020\n",
            "Epoch 13/20\n",
            "16/16 [==============================] - 0s 16ms/step - loss: 0.1645 - accuracy: 0.9554 - val_loss: 1.0422 - val_accuracy: 0.8080\n",
            "Epoch 14/20\n",
            "16/16 [==============================] - 0s 15ms/step - loss: 0.1502 - accuracy: 0.9546 - val_loss: 0.9892 - val_accuracy: 0.8040\n",
            "Epoch 15/20\n",
            "16/16 [==============================] - 0s 16ms/step - loss: 0.1391 - accuracy: 0.9560 - val_loss: 1.0188 - val_accuracy: 0.8120\n",
            "Epoch 16/20\n",
            "16/16 [==============================] - 0s 15ms/step - loss: 0.1295 - accuracy: 0.9589 - val_loss: 1.0506 - val_accuracy: 0.8070\n",
            "Epoch 17/20\n",
            "16/16 [==============================] - 0s 16ms/step - loss: 0.1232 - accuracy: 0.9577 - val_loss: 1.0712 - val_accuracy: 0.7990\n",
            "Epoch 18/20\n",
            "16/16 [==============================] - 0s 16ms/step - loss: 0.1186 - accuracy: 0.9564 - val_loss: 1.0914 - val_accuracy: 0.8120\n",
            "Epoch 19/20\n",
            "16/16 [==============================] - 0s 15ms/step - loss: 0.1160 - accuracy: 0.9580 - val_loss: 1.0963 - val_accuracy: 0.7960\n",
            "Epoch 20/20\n",
            "16/16 [==============================] - 0s 16ms/step - loss: 0.1104 - accuracy: 0.9560 - val_loss: 1.1194 - val_accuracy: 0.8010\n"
          ],
          "name": "stdout"
        }
      ]
    },
    {
      "cell_type": "code",
      "metadata": {
        "id": "47DOF0f94jpu",
        "colab_type": "code",
        "colab": {
          "base_uri": "https://localhost:8080/",
          "height": 295
        },
        "outputId": "8413e389-6563-4742-cf9b-4964d07952a6"
      },
      "source": [
        "import matplotlib.pyplot as plt\n",
        "loss = history.history['loss']\n",
        "val_loss = history.history['val_loss']\n",
        "epochs = range(1, len(loss) + 1)\n",
        "plt.plot(epochs, loss, 'bo', label='Training loss') \n",
        "plt.plot(epochs, val_loss, 'b', label='Validation loss') \n",
        "plt.title('Training and validation loss') \n",
        "plt.xlabel('Epochs')\n",
        "plt.ylabel('Loss') \n",
        "plt.legend()\n",
        "plt.show()"
      ],
      "execution_count": 62,
      "outputs": [
        {
          "output_type": "display_data",
          "data": {
            "image/png": "[encoded data removed]",
            "text/plain": [
              "<Figure size 432x288 with 1 Axes>"
            ]
          },
          "metadata": {
            "tags": []
          }
        }
      ]
    },
    {
      "cell_type": "code",
      "metadata": {
        "id": "0Z_9tQc155bl",
        "colab_type": "code",
        "colab": {}
      },
      "source": [
        "# retrain the model from scratch \n",
        "model = Sequential()\n",
        "model.add(Dense(64, activation='relu', input_shape=(10000,))) \n",
        "model.add(Dense(64, activation='relu')) \n",
        "model.add(Dense(46, activation='softmax'))\n",
        "model.compile(optimizer='rmsprop', loss='categorical_crossentropy',\n",
        "metrics=['accuracy']) \n",
        "model.fit(partial_x_train,\n",
        "          partial_y_train,\n",
        "          epochs=9,\n",
        "          batch_size=512,\n",
        "          validation_data=(x_val, y_val))\n",
        "results = model.evaluate(x_test, one_hot_test_labels)"
      ],
      "execution_count": 0,
      "outputs": []
    },
    {
      "cell_type": "code",
      "metadata": {
        "id": "0IrmAE8f6MY0",
        "colab_type": "code",
        "colab": {}
      },
      "source": [
        "model = Sequential()\n",
        "model.add(Dense(64, activation='relu', input_shape=(10000,))) \n",
        "model.add(Dense(4, activation='relu')) \n",
        "model.add(Dense(46, activation='softmax'))\n",
        "model.compile(optimizer='rmsprop', loss='categorical_crossentropy',\n",
        "metrics=['accuracy']) \n",
        "model.fit(partial_x_train,\n",
        "          partial_y_train,\n",
        "          epochs=20,\n",
        "          batch_size=128,\n",
        "          validation_data=(x_val, y_val))\n"
      ],
      "execution_count": 0,
      "outputs": []
    },
    {
      "cell_type": "code",
      "metadata": {
        "id": "Ww1Zkd9-D7YL",
        "colab_type": "code",
        "colab": {}
      },
      "source": [
        ""
      ],
      "execution_count": 0,
      "outputs": []
    }
  ]
}