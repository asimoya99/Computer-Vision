{
  "nbformat": 4,
  "nbformat_minor": 0,
  "metadata": {
    "colab": {
      "name": "FashionClassifier.ipynb",
      "provenance": [],
      "authorship_tag": "ABX9TyN3SGiwYZZz7GdH5yT8kVFb",
      "include_colab_link": true
    },
    "kernelspec": {
      "name": "python3",
      "display_name": "Python 3"
    }
  },
  "cells": [
    {
      "cell_type": "markdown",
      "metadata": {
        "id": "view-in-github",
        "colab_type": "text"
      },
      "source": [
        "<a href=\"https://colab.research.google.com/github/asimoya99/Computer-Vision/blob/master/FashionClassifier.ipynb\" target=\"_parent\"><img src=\"https://colab.research.google.com/assets/colab-badge.svg\" alt=\"Open In Colab\"/></a>"
      ]
    },
    {
      "cell_type": "code",
      "metadata": {
        "colab": {
          "base_uri": "https://localhost:8080/"
        },
        "id": "2C3Eogok-Ytd",
        "outputId": "77034d62-c86f-474b-dc7a-5912f7f6684d"
      },
      "source": [
        "from keras.datasets import fashion_mnist\n",
        "\n",
        "(x_train, y_train), (x_test, y_test) = fashion_mnist.load_data()"
      ],
      "execution_count": 1,
      "outputs": [
        {
          "output_type": "stream",
          "text": [
            "Downloading data from https://storage.googleapis.com/tensorflow/tf-keras-datasets/train-labels-idx1-ubyte.gz\n",
            "32768/29515 [=================================] - 0s 0us/step\n",
            "Downloading data from https://storage.googleapis.com/tensorflow/tf-keras-datasets/train-images-idx3-ubyte.gz\n",
            "26427392/26421880 [==============================] - 0s 0us/step\n",
            "Downloading data from https://storage.googleapis.com/tensorflow/tf-keras-datasets/t10k-labels-idx1-ubyte.gz\n",
            "8192/5148 [===============================================] - 0s 0us/step\n",
            "Downloading data from https://storage.googleapis.com/tensorflow/tf-keras-datasets/t10k-images-idx3-ubyte.gz\n",
            "4423680/4422102 [==============================] - 0s 0us/step\n"
          ],
          "name": "stdout"
        }
      ]
    },
    {
      "cell_type": "code",
      "metadata": {
        "id": "KbmCE-kR-tdi"
      },
      "source": [
        "\n",
        "#convolution layer \n",
        "from keras.layers import  Flatten,Input, MaxPool2D, Dense,Conv2D\n",
        "\n",
        "from keras.models import Model\n",
        "def conv3x3(input_x, nb_filters):\n",
        "  return Conv2D(nb_filters, kernel_size = (3,3), use_bias= False, activation = 'relu', padding = \"same\")(input_x)"
      ],
      "execution_count": 13,
      "outputs": []
    },
    {
      "cell_type": "code",
      "metadata": {
        "id": "MOZMZUW-_K9O"
      },
      "source": [
        "from keras.layers import  Flatten,Input, MaxPool2D, Dense,Conv2D\n",
        "\n",
        "from keras.models import Model\n",
        "def create_model( img_h = 28, img_w = 28):\n",
        "  inputs = Input(shape = (img_h, img_w,1))\n",
        "  x = conv3x3(inputs, 32)\n",
        "  x = conv3x3(x, 32)\n",
        "  x  = MaxPool2D(pool_size = (2,2))(x)\n",
        "  x = conv3x3(x,64)\n",
        "  x = conv3x3(x,64)\n",
        "  x  = MaxPool2D(pool_size = (2,2))(x)\n",
        "  x = conv3x3(x,64)\n",
        "  x  = MaxPool2D(pool_size = (2,2))(x)\n",
        "  x = Flatten()(x)\n",
        "  x = Dense(128, activation = \"relu\")(x)\n",
        "  preds = Dense(32, activation='softmax')(x)\n",
        "\n",
        "  model = Model(input = inputs, outputs = preds)\n",
        "  print(model.summary())\n",
        "  return model\n",
        "\n"
      ],
      "execution_count": 29,
      "outputs": []
    },
    {
      "cell_type": "code",
      "metadata": {
        "colab": {
          "base_uri": "https://localhost:8080/"
        },
        "id": "g-VPj5y5AOGe",
        "outputId": "907359fd-18dd-41ab-855f-21e366e1ee55"
      },
      "source": [
        ""
      ],
      "execution_count": 30,
      "outputs": [
        {
          "output_type": "execute_result",
          "data": {
            "text/plain": [
              "<function __main__.create_model>"
            ]
          },
          "metadata": {
            "tags": []
          },
          "execution_count": 30
        }
      ]
    },
    {
      "cell_type": "code",
      "metadata": {
        "id": "wAvsrUovAWII"
      },
      "source": [
        ""
      ],
      "execution_count": null,
      "outputs": []
    }
  ]
}