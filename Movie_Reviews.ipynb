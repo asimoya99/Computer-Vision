{
  "nbformat": 4,
  "nbformat_minor": 0,
  "metadata": {
    "colab": {
      "name": "Movie Reviews.ipynb",
      "provenance": [],
      "collapsed_sections": [],
      "authorship_tag": "ABX9TyOl0X8HKQyL+XhFIUAY3GVn",
      "include_colab_link": true
    },
    "kernelspec": {
      "name": "python3",
      "display_name": "Python 3"
    }
  },
  "cells": [
    {
      "cell_type": "markdown",
      "metadata": {
        "id": "view-in-github",
        "colab_type": "text"
      },
      "source": [
        "<a href=\"https://colab.research.google.com/github/asimoya99/Computer-Vision/blob/master/Movie_Reviews.ipynb\" target=\"_parent\"><img src=\"https://colab.research.google.com/assets/colab-badge.svg\" alt=\"Open In Colab\"/></a>"
      ]
    },
    {
      "cell_type": "code",
      "metadata": {
        "id": "wLiTSZ7Ah6Cd",
        "colab_type": "code",
        "colab": {
          "base_uri": "https://localhost:8080/",
          "height": 34
        },
        "outputId": "dd93bead-1161-43a1-85b8-902a5792d462"
      },
      "source": [
        "from keras.datasets import imdb\n"
      ],
      "execution_count": 1,
      "outputs": [
        {
          "output_type": "stream",
          "text": [
            "Using TensorFlow backend.\n"
          ],
          "name": "stderr"
        }
      ]
    },
    {
      "cell_type": "code",
      "metadata": {
        "id": "lsdXQeOAiCR1",
        "colab_type": "code",
        "colab": {
          "base_uri": "https://localhost:8080/",
          "height": 51
        },
        "outputId": "334542d6-849c-4392-8c99-d6325d4f58f8"
      },
      "source": [
        "(train_data, train_labels),(test_data, test_labels) = imdb.load_data(num_words = 10000)"
      ],
      "execution_count": 2,
      "outputs": [
        {
          "output_type": "stream",
          "text": [
            "Downloading data from https://s3.amazonaws.com/text-datasets/imdb.npz\n",
            "17465344/17464789 [==============================] - 1s 0us/step\n"
          ],
          "name": "stdout"
        }
      ]
    },
    {
      "cell_type": "code",
      "metadata": {
        "id": "SZ7AAGA3iP4J",
        "colab_type": "code",
        "colab": {}
      },
      "source": [
        "import numpy as np\n",
        "#create an all  zero matrix shape len(sequences)\n",
        "#set specific indices of results to 1s\n",
        "def vectorize_sequeunces(sequences, dimension = 10000):\n",
        "  results = np.zeros((len(sequences), dimension)) \n",
        "  for i, sequence in enumerate(sequences):\n",
        "    results[i,sequence] = 1      \n",
        "  return results"
      ],
      "execution_count": 0,
      "outputs": []
    },
    {
      "cell_type": "code",
      "metadata": {
        "id": "6Qyis7CXjimn",
        "colab_type": "code",
        "colab": {}
      },
      "source": [
        "x_train  = vectorize_sequeunces(train_data)\n",
        "x_test = vectorize_sequeunces(test_data)"
      ],
      "execution_count": 0,
      "outputs": []
    },
    {
      "cell_type": "code",
      "metadata": {
        "id": "500jU-0-jvRA",
        "colab_type": "code",
        "colab": {}
      },
      "source": [
        "# straight way to vectorise the labels\n",
        "y_train = np.asarray(train_labels).astype('float32')\n",
        "y_test = np.asarray(test_labels).astype('float32')"
      ],
      "execution_count": 0,
      "outputs": []
    },
    {
      "cell_type": "code",
      "metadata": {
        "id": "h1uPtRMIk_jt",
        "colab_type": "code",
        "colab": {}
      },
      "source": [
        "from tensorflow.keras.models import Sequential\n",
        "from tensorflow.keras.layers import Dense, Activation\n"
      ],
      "execution_count": 0,
      "outputs": []
    },
    {
      "cell_type": "code",
      "metadata": {
        "id": "gxQwD5h5ldjc",
        "colab_type": "code",
        "colab": {}
      },
      "source": [
        "model = Sequential()\n",
        "model.add(Dense(16, activation='relu',input_shape=(10000,)))\n",
        "model.add(Dense(16, activation='relu'))\n",
        "model.add(Dense(1, activation='sigmoid'))"
      ],
      "execution_count": 0,
      "outputs": []
    },
    {
      "cell_type": "code",
      "metadata": {
        "id": "deyO1SQmluqp",
        "colab_type": "code",
        "colab": {}
      },
      "source": [
        "#compile the model\n",
        "model.compile(optimizer = 'rmsprop',loss = 'binary_entropy', metrics = ['accuracy'])"
      ],
      "execution_count": 0,
      "outputs": []
    },
    {
      "cell_type": "code",
      "metadata": {
        "id": "lt_fTEo4nd9z",
        "colab_type": "code",
        "colab": {}
      },
      "source": [
        "from tensorflow.keras.optimizers import RMSprop\n",
        "model.compile(optimizer = RMSprop(lr = 0.001), loss = 'binary_entropy', metrics = ['accuracy'] )\n"
      ],
      "execution_count": 0,
      "outputs": []
    },
    {
      "cell_type": "code",
      "metadata": {
        "id": "p1Jp-LsZn4xF",
        "colab_type": "code",
        "colab": {}
      },
      "source": [
        "# using custom losses and metrics\n",
        "from tensorflow.keras import losses\n",
        "from tensorflow.keras import metrics\n",
        "\n",
        "model.compile(optimizer= RMSprop(lr = 0.001),loss = losses.binary_crossentropy,metrics=[metrics.binary_accuracy])"
      ],
      "execution_count": 0,
      "outputs": []
    },
    {
      "cell_type": "code",
      "metadata": {
        "id": "2g7ieyU5ohs_",
        "colab_type": "code",
        "colab": {}
      },
      "source": [
        "# setting aside a validation set \n",
        "x_val = x_train[:10000]\n",
        "partial_x_train = x_train[10000:]\n",
        "y_val = y_train[:10000]\n",
        "partial_y_train = y_train[10000:]"
      ],
      "execution_count": 0,
      "outputs": []
    },
    {
      "cell_type": "code",
      "metadata": {
        "id": "Ckd7i1JYo48i",
        "colab_type": "code",
        "colab": {}
      },
      "source": [
        "# training the model\n",
        "model.compile(optimizer='rmsprop',loss= 'binary_crossentropy',metrics=['acc'])\n",
        "history = model.fit(partial_x_train,partial_y_train,epochs=20,batch_size=512, validation_data=(x_val,y_val))"
      ],
      "execution_count": 0,
      "outputs": []
    },
    {
      "cell_type": "code",
      "metadata": {
        "id": "rPiHyNVEpUu2",
        "colab_type": "code",
        "colab": {}
      },
      "source": [
        "import matplotlib.pyplot as plt\n"
      ],
      "execution_count": 0,
      "outputs": []
    },
    {
      "cell_type": "code",
      "metadata": {
        "id": "1v8CyMQApjv2",
        "colab_type": "code",
        "colab": {
          "base_uri": "https://localhost:8080/",
          "height": 295
        },
        "outputId": "809fc39e-e46d-43e2-dc08-b00b40a3af9d"
      },
      "source": [
        "history_dict = history.history\n",
        "loss_values = history_dict['loss']\n",
        "acc = history_dict['acc']\n",
        "val_loss_values = history_dict['val_loss']\n",
        "epochs = range(1, len(acc)+1)\n",
        "plt.plot(epochs,loss_values,'bo',label = 'Training Loss') # bo blue dot\n",
        "plt.plot(epochs, val_loss_values,'b',label = 'Validation Loss')\n",
        "plt.title(\"Training and validation loss\")\n",
        "plt.xlabel(\"Epochs\")\n",
        "plt.ylabel(\"Loss\")\n",
        "plt.legend()\n",
        "plt.show()"
      ],
      "execution_count": 40,
      "outputs": [
        {
          "output_type": "display_data",
          "data": {
            "image/png": "[encoded data removed]",
            "text/plain": [
              "<Figure size 432x288 with 1 Axes>"
            ]
          },
          "metadata": {
            "tags": []
          }
        }
      ]
    },
    {
      "cell_type": "code",
      "metadata": {
        "id": "HfJ-9i8OqahH",
        "colab_type": "code",
        "colab": {
          "base_uri": "https://localhost:8080/",
          "height": 295
        },
        "outputId": "66b5c5bc-3b89-478b-beae-24d9ca7de756"
      },
      "source": [
        "# clear  the figure\n",
        "plt.clf()\n",
        "acc_values = history_dict['acc']\n",
        "val_acc_values = history_dict['val_acc']\n",
        "plt.plot(epochs,acc_values, 'bo',label = 'Training acc')\n",
        "plt.plot(epochs,val_acc_values, 'b', label = 'Validation acc')\n",
        "plt.title('Training and validation accuracy')\n",
        "plt.xlabel('Epochs')\n",
        "plt.ylabel('Loss')\n",
        "plt.legend()\n",
        "plt.show()"
      ],
      "execution_count": 44,
      "outputs": [
        {
          "output_type": "display_data",
          "data": {
            "image/png": "[encoded data removed]",
            "text/plain": [
              "<Figure size 432x288 with 1 Axes>"
            ]
          },
          "metadata": {
            "tags": []
          }
        }
      ]
    },
    {
      "cell_type": "code",
      "metadata": {
        "id": "uykcVFDor4SJ",
        "colab_type": "code",
        "colab": {}
      },
      "source": [
        "# train a new model from scratch and test with 4 epochs\n",
        "model = Sequential()\n",
        "model.add(Dense(16, activation='relu',input_shape = (10000,)))\n",
        "model.add(Dense(16, activation='relu'))\n",
        "model.add(Dense(1,activation = 'sigmoid'))"
      ],
      "execution_count": 0,
      "outputs": []
    },
    {
      "cell_type": "code",
      "metadata": {
        "id": "6o3rQAhhtz1Z",
        "colab_type": "code",
        "colab": {
          "base_uri": "https://localhost:8080/",
          "height": 207
        },
        "outputId": "f7c4dfcc-f6df-4a1c-a90c-0e835e8ecda1"
      },
      "source": [
        "\n",
        "model.compile(optimizer='rmsprop', loss='binary_crossentropy',metrics=['accuracy'])\n",
        "model.fit(x_train, y_train, epochs=4, batch_size=512)\n",
        "results = model.evaluate(x_test, y_test)\n"
      ],
      "execution_count": 47,
      "outputs": [
        {
          "output_type": "stream",
          "text": [
            "ERROR! Session/line number was not unique in database. History logging moved to new session 64\n",
            "Epoch 1/4\n",
            "49/49 [==============================] - 1s 24ms/step - loss: 0.4727 - accuracy: 0.8151\n",
            "Epoch 2/4\n",
            "49/49 [==============================] - 1s 24ms/step - loss: 0.2658 - accuracy: 0.9076\n",
            "Epoch 3/4\n",
            "49/49 [==============================] - 1s 25ms/step - loss: 0.2029 - accuracy: 0.9282\n",
            "Epoch 4/4\n",
            "49/49 [==============================] - 1s 24ms/step - loss: 0.1705 - accuracy: 0.9392\n",
            "782/782 [==============================] - 1s 2ms/step - loss: 0.2924 - accuracy: 0.8848\n"
          ],
          "name": "stdout"
        }
      ]
    },
    {
      "cell_type": "code",
      "metadata": {
        "id": "oo49H9kquLFf",
        "colab_type": "code",
        "colab": {
          "base_uri": "https://localhost:8080/",
          "height": 34
        },
        "outputId": "3007a127-253d-476f-aaab-d5c1c2bc0a1a"
      },
      "source": [
        "results"
      ],
      "execution_count": 48,
      "outputs": [
        {
          "output_type": "execute_result",
          "data": {
            "text/plain": [
              "[0.2923639118671417, 0.8847600221633911]"
            ]
          },
          "metadata": {
            "tags": []
          },
          "execution_count": 48
        }
      ]
    },
    {
      "cell_type": "code",
      "metadata": {
        "id": "reS2YszZudks",
        "colab_type": "code",
        "colab": {
          "base_uri": "https://localhost:8080/",
          "height": 136
        },
        "outputId": "6371d496-a7de-415d-838b-f6093e1e5ab7"
      },
      "source": [
        "model.predict(x_test)"
      ],
      "execution_count": 49,
      "outputs": [
        {
          "output_type": "execute_result",
          "data": {
            "text/plain": [
              "array([[0.19316709],\n",
              "       [0.99921346],\n",
              "       [0.8298186 ],\n",
              "       ...,\n",
              "       [0.10073403],\n",
              "       [0.05929482],\n",
              "       [0.53698033]], dtype=float32)"
            ]
          },
          "metadata": {
            "tags": []
          },
          "execution_count": 49
        }
      ]
    },
    {
      "cell_type": "code",
      "metadata": {
        "id": "ybmUA8TLulpc",
        "colab_type": "code",
        "colab": {}
      },
      "source": [
        "# experimenting with the data \n",
        "from tensorflow.keras.models import Sequential\n",
        "from tensorflow.keras.layers import Dense, Activation\n",
        "model = Sequential()\n",
        "model.add(Dense(32, activation='tanh',input_shape= (10000,)))\n",
        "model.add(Dense(32,activation='tanh'))\n",
        "model.add(Dense(32, activation='softmax'))\n",
        "model.add(Dense(1))"
      ],
      "execution_count": 0,
      "outputs": []
    },
    {
      "cell_type": "code",
      "metadata": {
        "id": "J_hHIiS9vXIe",
        "colab_type": "code",
        "colab": {}
      },
      "source": [
        "model.compile(optimizer='rmsprop',loss= 'mse',metrics=['acc'])"
      ],
      "execution_count": 0,
      "outputs": []
    },
    {
      "cell_type": "code",
      "metadata": {
        "id": "7JsLR5Drv-wC",
        "colab_type": "code",
        "colab": {
          "base_uri": "https://localhost:8080/",
          "height": 734
        },
        "outputId": "9e21ddbe-3409-4b78-d556-4192f56acfce"
      },
      "source": [
        "model.fit(partial_x_train, partial_y_train,epochs=20, batch_size=20, validation_data=(x_val,y_val))"
      ],
      "execution_count": 58,
      "outputs": [
        {
          "output_type": "stream",
          "text": [
            "Epoch 1/20\n",
            "750/750 [==============================] - 6s 8ms/step - loss: 0.1236 - acc: 0.8201 - val_loss: 0.0882 - val_acc: 0.8763\n",
            "Epoch 2/20\n",
            "750/750 [==============================] - 6s 7ms/step - loss: 0.0621 - acc: 0.9186 - val_loss: 0.0840 - val_acc: 0.8874\n",
            "Epoch 3/20\n",
            "750/750 [==============================] - 5s 7ms/step - loss: 0.0469 - acc: 0.9409 - val_loss: 0.0903 - val_acc: 0.8807\n",
            "Epoch 4/20\n",
            "750/750 [==============================] - 6s 7ms/step - loss: 0.0374 - acc: 0.9525 - val_loss: 0.0962 - val_acc: 0.8770\n",
            "Epoch 5/20\n",
            "750/750 [==============================] - 5s 7ms/step - loss: 0.0306 - acc: 0.9623 - val_loss: 0.1008 - val_acc: 0.8753\n",
            "Epoch 6/20\n",
            "750/750 [==============================] - 6s 7ms/step - loss: 0.0266 - acc: 0.9671 - val_loss: 0.1075 - val_acc: 0.8691\n",
            "Epoch 7/20\n",
            "750/750 [==============================] - 6s 7ms/step - loss: 0.0227 - acc: 0.9717 - val_loss: 0.1053 - val_acc: 0.8704\n",
            "Epoch 8/20\n",
            "750/750 [==============================] - 6s 7ms/step - loss: 0.0192 - acc: 0.9770 - val_loss: 0.1105 - val_acc: 0.8692\n",
            "Epoch 9/20\n",
            "750/750 [==============================] - 6s 8ms/step - loss: 0.0165 - acc: 0.9806 - val_loss: 0.1147 - val_acc: 0.8664\n",
            "Epoch 10/20\n",
            "750/750 [==============================] - 6s 7ms/step - loss: 0.0145 - acc: 0.9831 - val_loss: 0.1220 - val_acc: 0.8639\n",
            "Epoch 11/20\n",
            "750/750 [==============================] - 5s 7ms/step - loss: 0.0134 - acc: 0.9842 - val_loss: 0.1151 - val_acc: 0.8642\n",
            "Epoch 12/20\n",
            "750/750 [==============================] - 6s 7ms/step - loss: 0.0118 - acc: 0.9865 - val_loss: 0.1176 - val_acc: 0.8640\n",
            "Epoch 13/20\n",
            "750/750 [==============================] - 6s 7ms/step - loss: 0.0091 - acc: 0.9891 - val_loss: 0.1165 - val_acc: 0.8663\n",
            "Epoch 14/20\n",
            "750/750 [==============================] - 6s 8ms/step - loss: 0.0083 - acc: 0.9895 - val_loss: 0.1190 - val_acc: 0.8652\n",
            "Epoch 15/20\n",
            "750/750 [==============================] - 6s 8ms/step - loss: 0.0069 - acc: 0.9917 - val_loss: 0.1200 - val_acc: 0.8656\n",
            "Epoch 16/20\n",
            "750/750 [==============================] - 6s 7ms/step - loss: 0.0056 - acc: 0.9932 - val_loss: 0.1260 - val_acc: 0.8627\n",
            "Epoch 17/20\n",
            "750/750 [==============================] - 6s 7ms/step - loss: 0.0058 - acc: 0.9929 - val_loss: 0.1198 - val_acc: 0.8676\n",
            "Epoch 18/20\n",
            "750/750 [==============================] - 6s 7ms/step - loss: 0.0048 - acc: 0.9939 - val_loss: 0.1228 - val_acc: 0.8619\n",
            "Epoch 19/20\n",
            "750/750 [==============================] - 6s 8ms/step - loss: 0.0040 - acc: 0.9947 - val_loss: 0.1237 - val_acc: 0.8636\n",
            "Epoch 20/20\n",
            "750/750 [==============================] - 6s 8ms/step - loss: 0.0032 - acc: 0.9953 - val_loss: 0.1226 - val_acc: 0.8652\n"
          ],
          "name": "stdout"
        },
        {
          "output_type": "execute_result",
          "data": {
            "text/plain": [
              "<tensorflow.python.keras.callbacks.History at 0x7f760a976b70>"
            ]
          },
          "metadata": {
            "tags": []
          },
          "execution_count": 58
        }
      ]
    },
    {
      "cell_type": "code",
      "metadata": {
        "id": "slosHXKiwh3T",
        "colab_type": "code",
        "colab": {}
      },
      "source": [
        "history_dict = history.history"
      ],
      "execution_count": 0,
      "outputs": []
    },
    {
      "cell_type": "code",
      "metadata": {
        "id": "CVyhP8uBxRzu",
        "colab_type": "code",
        "colab": {
          "base_uri": "https://localhost:8080/",
          "height": 1000
        },
        "outputId": "6e8f3333-b679-4fbc-8453-4f091b7174d2"
      },
      "source": [
        "history_dict"
      ],
      "execution_count": 60,
      "outputs": [
        {
          "output_type": "execute_result",
          "data": {
            "text/plain": [
              "{'acc': [0.7667333483695984,\n",
              "  0.897266685962677,\n",
              "  0.9233333468437195,\n",
              "  0.9387333393096924,\n",
              "  0.9502000212669373,\n",
              "  0.9608666896820068,\n",
              "  0.9675999879837036,\n",
              "  0.974399983882904,\n",
              "  0.9800000190734863,\n",
              "  0.984000027179718,\n",
              "  0.9887333512306213,\n",
              "  0.990066647529602,\n",
              "  0.9933333396911621,\n",
              "  0.9955333471298218,\n",
              "  0.9963333606719971,\n",
              "  0.9970666766166687,\n",
              "  0.998199999332428,\n",
              "  0.999666690826416,\n",
              "  0.9993333220481873,\n",
              "  0.9994000196456909],\n",
              " 'loss': [0.5452641844749451,\n",
              "  0.33359959721565247,\n",
              "  0.24138039350509644,\n",
              "  0.19055293500423431,\n",
              "  0.15391725301742554,\n",
              "  0.12642870843410492,\n",
              "  0.10648378729820251,\n",
              "  0.0881325751543045,\n",
              "  0.07470694184303284,\n",
              "  0.06135645881295204,\n",
              "  0.048743389546871185,\n",
              "  0.04119831696152687,\n",
              "  0.0324050709605217,\n",
              "  0.02499268762767315,\n",
              "  0.020903566852211952,\n",
              "  0.017027050256729126,\n",
              "  0.012412951327860355,\n",
              "  0.0077579440549016,\n",
              "  0.007344628218561411,\n",
              "  0.005757024046033621],\n",
              " 'val_acc': [0.8574000000953674,\n",
              "  0.8835999965667725,\n",
              "  0.8870000243186951,\n",
              "  0.8888000249862671,\n",
              "  0.8862000107765198,\n",
              "  0.8877999782562256,\n",
              "  0.8830000162124634,\n",
              "  0.8841999769210815,\n",
              "  0.8795999884605408,\n",
              "  0.8787999749183655,\n",
              "  0.8664000034332275,\n",
              "  0.871399998664856,\n",
              "  0.8759999871253967,\n",
              "  0.875,\n",
              "  0.8666999936103821,\n",
              "  0.8698999881744385,\n",
              "  0.8690999746322632,\n",
              "  0.855400025844574,\n",
              "  0.8659999966621399,\n",
              "  0.8661999702453613],\n",
              " 'val_loss': [0.42799919843673706,\n",
              "  0.32103630900382996,\n",
              "  0.28764551877975464,\n",
              "  0.27803197503089905,\n",
              "  0.281612753868103,\n",
              "  0.2878149151802063,\n",
              "  0.3127024471759796,\n",
              "  0.3201376795768738,\n",
              "  0.3410596251487732,\n",
              "  0.3624049425125122,\n",
              "  0.4599071443080902,\n",
              "  0.4253915846347809,\n",
              "  0.4549906253814697,\n",
              "  0.4877464771270752,\n",
              "  0.5320871472358704,\n",
              "  0.5561330318450928,\n",
              "  0.5868561863899231,\n",
              "  0.6856270432472229,\n",
              "  0.6917792558670044,\n",
              "  0.7054722905158997]}"
            ]
          },
          "metadata": {
            "tags": []
          },
          "execution_count": 60
        }
      ]
    },
    {
      "cell_type": "code",
      "metadata": {
        "id": "SoLisfflxS90",
        "colab_type": "code",
        "colab": {}
      },
      "source": [
        "#"
      ],
      "execution_count": 0,
      "outputs": []
    }
  ]
}