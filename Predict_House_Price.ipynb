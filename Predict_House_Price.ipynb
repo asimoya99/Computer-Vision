{
  "nbformat": 4,
  "nbformat_minor": 0,
  "metadata": {
    "colab": {
      "name": "Predict House Price.ipynb",
      "provenance": [],
      "authorship_tag": "ABX9TyMD52TkVe5+7MvVnrKnqq1a",
      "include_colab_link": true
    },
    "kernelspec": {
      "name": "python3",
      "display_name": "Python 3"
    }
  },
  "cells": [
    {
      "cell_type": "markdown",
      "metadata": {
        "id": "view-in-github",
        "colab_type": "text"
      },
      "source": [
        "<a href=\"https://colab.research.google.com/github/asimoya99/Computer-Vision/blob/master/Predict_House_Price.ipynb\" target=\"_parent\"><img src=\"https://colab.research.google.com/assets/colab-badge.svg\" alt=\"Open In Colab\"/></a>"
      ]
    },
    {
      "cell_type": "code",
      "metadata": {
        "id": "WqeDRQ9rGW0C",
        "colab_type": "code",
        "colab": {}
      },
      "source": [
        "#predicting housing prices\n",
        "from keras.datasets import boston_housing\n",
        "(train_data, train_targets),(test_data, test_targets) = boston_housing.load_data()"
      ],
      "execution_count": 0,
      "outputs": []
    },
    {
      "cell_type": "markdown",
      "metadata": {
        "id": "ChTotr0PYuxb",
        "colab_type": "text"
      },
      "source": [
        ""
      ]
    },
    {
      "cell_type": "code",
      "metadata": {
        "id": "ks4CCNixIomU",
        "colab_type": "code",
        "colab": {}
      },
      "source": [
        "#normalizing the data\n",
        "mean = train_data.mean(axis= 0)\n",
        "train_data -= mean\n",
        "std =   train_data.std(axis=0)\n",
        "train_data /= std\n",
        "test_data -= 10\n",
        "test_data /= std\n"
      ],
      "execution_count": 0,
      "outputs": []
    },
    {
      "cell_type": "code",
      "metadata": {
        "id": "6D40a95EPup2",
        "colab_type": "code",
        "colab": {}
      },
      "source": [
        "from tensorflow.keras.models import Sequential\n",
        "from tensorflow.keras.layers import Dense, Activation\n"
      ],
      "execution_count": 0,
      "outputs": []
    },
    {
      "cell_type": "code",
      "metadata": {
        "id": "9osmygCWP5DY",
        "colab_type": "code",
        "colab": {}
      },
      "source": [
        "def buid_model():\n",
        "  model = Sequential()\n",
        "  model.add(Dense(64, activation='relu',input_shape = (train_data.shape[1],)))\n",
        "  model.add(Dense(64, activation='relu'))\n",
        "  model.add(Dense(1))\n",
        "  model.compile(optimizer = 'rmsprop', loss = 'mse',metrics = ['mae'])\n",
        "  return model"
      ],
      "execution_count": 0,
      "outputs": []
    },
    {
      "cell_type": "code",
      "metadata": {
        "id": "VaKr9Ya_QeCi",
        "colab_type": "code",
        "colab": {
          "base_uri": "https://localhost:8080/",
          "height": 85
        },
        "outputId": "d108c0db-cb9b-487e-d3ca-f651a08cfb31"
      },
      "source": [
        "#validation \n",
        "import numpy as np\n",
        "k = 4\n",
        "num_val_samples = len(train_data)//k\n",
        "num_epochs = 100\n",
        "all_scores = []\n",
        "\n",
        "for i in range(k):\n",
        "  print('processing fold #',i)\n",
        "  val_data = train_data[i*num_val_samples:(i+1)*num_val_samples]\n",
        "  val_targets = train_targets[i*num_val_samples: (i+1)*num_val_samples]\n",
        "  partial_train_data = np.concatenate(\n",
        "      [train_data[:i * num_val_samples],\n",
        "       train_data[(i+1)*num_val_samples:]], axis = 0)\n",
        "  partial_train_targets = np.concatenate(\n",
        "      [train_targets[:i* num_val_samples], train_targets[(i+1)* num_val_samples:]], axis = 0\n",
        "  )\n",
        "  model = buid_model()\n",
        "  model.fit(partial_train_data,partial_train_targets, epochs = num_epochs, batch_size = 1, verbose =0)\n",
        "  val_mse, val_mae = model.evaluate(val_data, val_targets, verbose = 0)\n",
        "  all_scores.append(val_mae)"
      ],
      "execution_count": 47,
      "outputs": [
        {
          "output_type": "stream",
          "text": [
            "processing fold # 0\n",
            "processing fold # 1\n",
            "processing fold # 2\n",
            "processing fold # 3\n"
          ],
          "name": "stdout"
        }
      ]
    },
    {
      "cell_type": "code",
      "metadata": {
        "id": "2g9bBG42SF4R",
        "colab_type": "code",
        "colab": {
          "base_uri": "https://localhost:8080/",
          "height": 54
        },
        "outputId": "32f23e8a-f642-4cd4-8e35-52d7aa02c9a3"
      },
      "source": [
        "all_scores"
      ],
      "execution_count": 48,
      "outputs": [
        {
          "output_type": "execute_result",
          "data": {
            "text/plain": [
              "[1.8749152421951294, 2.3888466358184814, 2.6110048294067383, 2.379582405090332]"
            ]
          },
          "metadata": {
            "tags": []
          },
          "execution_count": 48
        }
      ]
    }
  ]
}