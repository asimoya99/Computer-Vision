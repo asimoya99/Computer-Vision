{
  "nbformat": 4,
  "nbformat_minor": 0,
  "metadata": {
    "colab": {
      "name": "Training Keras.ipynb",
      "provenance": [],
      "authorship_tag": "ABX9TyOwBCClFKd+7RrpJDykJn7B",
      "include_colab_link": true
    },
    "kernelspec": {
      "name": "python3",
      "display_name": "Python 3"
    },
    "accelerator": "GPU"
  },
  "cells": [
    {
      "cell_type": "markdown",
      "metadata": {
        "id": "view-in-github",
        "colab_type": "text"
      },
      "source": [
        "<a href=\"https://colab.research.google.com/github/asimoya99/Computer-Vision/blob/master/Training_Keras.ipynb\" target=\"_parent\"><img src=\"https://colab.research.google.com/assets/colab-badge.svg\" alt=\"Open In Colab\"/></a>"
      ]
    },
    {
      "cell_type": "code",
      "metadata": {
        "id": "XYovrIeLp0XT",
        "colab_type": "code",
        "colab": {}
      },
      "source": [
        "%matplotlib inline\n",
        "#display figures in the notebook\n",
        "\n",
        "import matplotlib.pyplot as plt\n",
        "import numpy as np\n",
        "from sklearn.datasets import load_digits\n",
        "\n"
      ],
      "execution_count": 0,
      "outputs": []
    },
    {
      "cell_type": "code",
      "metadata": {
        "id": "aMLSbQhcqQo1",
        "colab_type": "code",
        "outputId": "1460fa0d-830c-4acf-c7a6-59b3d5efd3c5",
        "colab": {
          "base_uri": "https://localhost:8080/",
          "height": 244
        }
      },
      "source": [
        "digits = load_digits()\n",
        "sample_index = 45\n",
        "plt.figure(figsize = (3,3))\n",
        "plt.imshow(digits.images[sample_index],cmap = plt.cm.gray_r, interpolation = 'nearest')\n",
        "plt.title(\"image label: %d\"%digits.target[sample_index])\n"
      ],
      "execution_count": 0,
      "outputs": [
        {
          "output_type": "execute_result",
          "data": {
            "text/plain": [
              "Text(0.5, 1.0, 'image label: 3')"
            ]
          },
          "metadata": {
            "tags": []
          },
          "execution_count": 4
        },
        {
          "output_type": "display_data",
          "data": {
            "image/png": "[encoded data removed]",
            "text/plain": [
              "<Figure size 216x216 with 1 Axes>"
            ]
          },
          "metadata": {
            "tags": []
          }
        }
      ]
    },
    {
      "cell_type": "code",
      "metadata": {
        "id": "EGs985Cdq47w",
        "colab_type": "code",
        "colab": {}
      },
      "source": [
        "# train/ test split the datasets\n",
        "from sklearn.model_selection import train_test_split\n",
        "data = np.asarray(digits.data, dtype = 'float32')\n",
        "target = np.asarray(digits.target,dtype= 'int32')\n",
        "X_train,X_test, y_train, y_test = train_test_split(data,target,test_size=0.15, random_state = 37)\n"
      ],
      "execution_count": 0,
      "outputs": []
    },
    {
      "cell_type": "code",
      "metadata": {
        "id": "-oLMy4_gr_QA",
        "colab_type": "code",
        "colab": {}
      },
      "source": [
        "# preprocessing the input data\n",
        "from sklearn import preprocessing\n",
        "\n",
        "# mean = 0; standard deviation = 1.0\n",
        "scaler = preprocessing.StandardScaler()\n",
        "X_train = scaler.fit_transform(X_train)\n",
        "X_test = scaler.transform(X_test)\n",
        "\n",
        "#print(scaler.mean_)\n",
        "#print(scaler.scale_)"
      ],
      "execution_count": 0,
      "outputs": []
    },
    {
      "cell_type": "code",
      "metadata": {
        "id": "r8mde5JQuJN-",
        "colab_type": "code",
        "outputId": "0eb122b2-010c-4366-bb9f-0185be192472",
        "colab": {
          "base_uri": "https://localhost:8080/",
          "height": 259
        }
      },
      "source": [
        "# display one of the transformed sample numbers\n",
        "sample_index = 45\n",
        "plt.figure(figsize=(3,3))\n",
        "plt.imshow(X_train[sample_index].reshape(8,8), cmap= plt.cm.gray_r, interpolation='nearest')\n",
        "plt.title(\"transformed sample\\n(standardization)\")\n",
        "\n"
      ],
      "execution_count": 0,
      "outputs": [
        {
          "output_type": "execute_result",
          "data": {
            "text/plain": [
              "Text(0.5, 1.0, 'transformed sample\\n(standardization)')"
            ]
          },
          "metadata": {
            "tags": []
          },
          "execution_count": 7
        },
        {
          "output_type": "display_data",
          "data": {
            "image/png": "[encoded data removed]",
            "text/plain": [
              "<Figure size 216x216 with 1 Axes>"
            ]
          },
          "metadata": {
            "tags": []
          }
        }
      ]
    },
    {
      "cell_type": "code",
      "metadata": {
        "id": "ZeqjCVe7u6mk",
        "colab_type": "code",
        "outputId": "418bf80c-44e5-4d40-a2c3-fcd70ca220ef",
        "colab": {
          "base_uri": "https://localhost:8080/",
          "height": 244
        }
      },
      "source": [
        "plt.figure(figsize=(3,3))\n",
        "plt.imshow(scaler.inverse_transform(X_train[sample_index]).reshape(8,8), cmap= plt.cm.gray_r, interpolation='nearest')\n",
        "plt.title(\"original sample\")\n",
        "\n"
      ],
      "execution_count": 0,
      "outputs": [
        {
          "output_type": "execute_result",
          "data": {
            "text/plain": [
              "Text(0.5, 1.0, 'original sample')"
            ]
          },
          "metadata": {
            "tags": []
          },
          "execution_count": 8
        },
        {
          "output_type": "display_data",
          "data": {
            "image/png": "[encoded data removed]",
            "text/plain": [
              "<Figure size 216x216 with 1 Axes>"
            ]
          },
          "metadata": {
            "tags": []
          }
        }
      ]
    },
    {
      "cell_type": "code",
      "metadata": {
        "id": "dJyK0mkvvjpM",
        "colab_type": "code",
        "outputId": "b5614ac8-4cc5-4003-f341-bd5777bf16a8",
        "colab": {
          "base_uri": "https://localhost:8080/",
          "height": 34
        }
      },
      "source": [
        "print(X_train.shape, y_train.shape)"
      ],
      "execution_count": 0,
      "outputs": [
        {
          "output_type": "stream",
          "text": [
            "(1527, 64) (1527,)\n"
          ],
          "name": "stdout"
        }
      ]
    },
    {
      "cell_type": "code",
      "metadata": {
        "id": "kkJQf-hLvobx",
        "colab_type": "code",
        "outputId": "52d3d408-24fd-44a2-8218-de0ebbfe171a",
        "colab": {
          "base_uri": "https://localhost:8080/",
          "height": 34
        }
      },
      "source": [
        "print(X_test.shape, y_test.shape)"
      ],
      "execution_count": 0,
      "outputs": [
        {
          "output_type": "stream",
          "text": [
            "(270, 64) (270,)\n"
          ],
          "name": "stdout"
        }
      ]
    },
    {
      "cell_type": "code",
      "metadata": {
        "id": "4U0JBXjFvsvg",
        "colab_type": "code",
        "outputId": "d1b48cbb-fa3d-45fc-b7ba-024bc571f9fa",
        "colab": {
          "base_uri": "https://localhost:8080/",
          "height": 34
        }
      },
      "source": [
        "# preprocessing the target data\n",
        "y_train[:3]\n"
      ],
      "execution_count": 0,
      "outputs": [
        {
          "output_type": "execute_result",
          "data": {
            "text/plain": [
              "array([2, 9, 5], dtype=int32)"
            ]
          },
          "metadata": {
            "tags": []
          },
          "execution_count": 11
        }
      ]
    },
    {
      "cell_type": "code",
      "metadata": {
        "id": "isMqDd6_vyWQ",
        "colab_type": "code",
        "outputId": "a70466df-eb71-41ac-c601-3cf8c594ffdb",
        "colab": {
          "base_uri": "https://localhost:8080/",
          "height": 68
        }
      },
      "source": [
        "#using keras to convert inter_encoded categorical variables into one hot encoded values\n",
        "from tensorflow.keras.utils import to_categorical\n",
        "Y_train = to_categorical(y_train)\n",
        "Y_train[:3]"
      ],
      "execution_count": 0,
      "outputs": [
        {
          "output_type": "execute_result",
          "data": {
            "text/plain": [
              "array([[0., 0., 1., 0., 0., 0., 0., 0., 0., 0.],\n",
              "       [0., 0., 0., 0., 0., 0., 0., 0., 0., 1.],\n",
              "       [0., 0., 0., 0., 0., 1., 0., 0., 0., 0.]], dtype=float32)"
            ]
          },
          "metadata": {
            "tags": []
          },
          "execution_count": 12
        }
      ]
    },
    {
      "cell_type": "code",
      "metadata": {
        "id": "16J1HmMiwI0H",
        "colab_type": "code",
        "colab": {}
      },
      "source": [
        "#first keras model\n",
        "from tensorflow.keras.models import Sequential\n",
        "from tensorflow.keras.layers import Dense, Activation\n",
        "from tensorflow.keras import optimizers\n"
      ],
      "execution_count": 0,
      "outputs": []
    },
    {
      "cell_type": "code",
      "metadata": {
        "id": "RbxpmGCyBmJu",
        "colab_type": "code",
        "colab": {}
      },
      "source": [
        "input_dim = X_train.shape[1]\n",
        "hidden_dim = 100\n",
        "output_dim = 10\n",
        "model = Sequential()\n",
        "model.add(Dense(hidden_dim, input_dim = input_dim, activation=\"tanh\"))\n",
        "model.add(Dense(output_dim, activation=\"softmax\"))\n",
        "model.compile(optimizer = optimizers.SGD(lr = 0.1), loss = 'categorical_crossentropy', metrics = ['accuracy'])\n",
        "history = model.fit(X_train,Y_train,validation_split = 0.2,epochs = 15, batch_size = 32)\n"
      ],
      "execution_count": 0,
      "outputs": []
    },
    {
      "cell_type": "code",
      "metadata": {
        "id": "jGhJO45VCfjC",
        "colab_type": "code",
        "colab": {}
      },
      "source": [
        "history.history"
      ],
      "execution_count": 0,
      "outputs": []
    },
    {
      "cell_type": "code",
      "metadata": {
        "id": "5ykwWxZVCqqz",
        "colab_type": "code",
        "outputId": "05894fcb-ef66-4af3-f729-23649a143fe1",
        "colab": {
          "base_uri": "https://localhost:8080/",
          "height": 34
        }
      },
      "source": [
        "history.epoch"
      ],
      "execution_count": 0,
      "outputs": [
        {
          "output_type": "execute_result",
          "data": {
            "text/plain": [
              "[0, 1, 2, 3, 4, 5, 6, 7, 8, 9, 10, 11, 12, 13, 14]"
            ]
          },
          "metadata": {
            "tags": []
          },
          "execution_count": 16
        }
      ]
    },
    {
      "cell_type": "code",
      "metadata": {
        "id": "-mUX8I6pCx7F",
        "colab_type": "code",
        "outputId": "30efb63f-0b6c-48af-cff7-f12d88e8fe6e",
        "colab": {
          "base_uri": "https://localhost:8080/",
          "height": 514
        }
      },
      "source": [
        "# for easier plotting wrap this into a dataframe\n",
        "import pandas as pd\n",
        "history_df = pd.DataFrame(history.history)\n",
        "history_df[\"epoch\"] = history.epoch\n",
        "history_df"
      ],
      "execution_count": 0,
      "outputs": [
        {
          "output_type": "execute_result",
          "data": {
            "text/html": [
              "<div>\n",
              "<style scoped>\n",
              "    .dataframe tbody tr th:only-of-type {\n",
              "        vertical-align: middle;\n",
              "    }\n",
              "\n",
              "    .dataframe tbody tr th {\n",
              "        vertical-align: top;\n",
              "    }\n",
              "\n",
              "    .dataframe thead th {\n",
              "        text-align: right;\n",
              "    }\n",
              "</style>\n",
              "<table border=\"1\" class=\"dataframe\">\n",
              "  <thead>\n",
              "    <tr style=\"text-align: right;\">\n",
              "      <th></th>\n",
              "      <th>loss</th>\n",
              "      <th>acc</th>\n",
              "      <th>val_loss</th>\n",
              "      <th>val_acc</th>\n",
              "      <th>epoch</th>\n",
              "    </tr>\n",
              "  </thead>\n",
              "  <tbody>\n",
              "    <tr>\n",
              "      <th>0</th>\n",
              "      <td>0.987687</td>\n",
              "      <td>0.746929</td>\n",
              "      <td>0.442094</td>\n",
              "      <td>0.898693</td>\n",
              "      <td>0</td>\n",
              "    </tr>\n",
              "    <tr>\n",
              "      <th>1</th>\n",
              "      <td>0.329848</td>\n",
              "      <td>0.941851</td>\n",
              "      <td>0.281365</td>\n",
              "      <td>0.934641</td>\n",
              "      <td>1</td>\n",
              "    </tr>\n",
              "    <tr>\n",
              "      <th>2</th>\n",
              "      <td>0.225500</td>\n",
              "      <td>0.959869</td>\n",
              "      <td>0.218481</td>\n",
              "      <td>0.944444</td>\n",
              "      <td>2</td>\n",
              "    </tr>\n",
              "    <tr>\n",
              "      <th>3</th>\n",
              "      <td>0.174403</td>\n",
              "      <td>0.968059</td>\n",
              "      <td>0.192230</td>\n",
              "      <td>0.947712</td>\n",
              "      <td>3</td>\n",
              "    </tr>\n",
              "    <tr>\n",
              "      <th>4</th>\n",
              "      <td>0.143698</td>\n",
              "      <td>0.977068</td>\n",
              "      <td>0.172205</td>\n",
              "      <td>0.947712</td>\n",
              "      <td>4</td>\n",
              "    </tr>\n",
              "    <tr>\n",
              "      <th>5</th>\n",
              "      <td>0.123584</td>\n",
              "      <td>0.980344</td>\n",
              "      <td>0.157372</td>\n",
              "      <td>0.957516</td>\n",
              "      <td>5</td>\n",
              "    </tr>\n",
              "    <tr>\n",
              "      <th>6</th>\n",
              "      <td>0.107461</td>\n",
              "      <td>0.980344</td>\n",
              "      <td>0.142528</td>\n",
              "      <td>0.970588</td>\n",
              "      <td>6</td>\n",
              "    </tr>\n",
              "    <tr>\n",
              "      <th>7</th>\n",
              "      <td>0.096084</td>\n",
              "      <td>0.981982</td>\n",
              "      <td>0.134850</td>\n",
              "      <td>0.973856</td>\n",
              "      <td>7</td>\n",
              "    </tr>\n",
              "    <tr>\n",
              "      <th>8</th>\n",
              "      <td>0.086526</td>\n",
              "      <td>0.982801</td>\n",
              "      <td>0.131934</td>\n",
              "      <td>0.973856</td>\n",
              "      <td>8</td>\n",
              "    </tr>\n",
              "    <tr>\n",
              "      <th>9</th>\n",
              "      <td>0.078597</td>\n",
              "      <td>0.986896</td>\n",
              "      <td>0.123229</td>\n",
              "      <td>0.973856</td>\n",
              "      <td>9</td>\n",
              "    </tr>\n",
              "    <tr>\n",
              "      <th>10</th>\n",
              "      <td>0.071506</td>\n",
              "      <td>0.990172</td>\n",
              "      <td>0.123046</td>\n",
              "      <td>0.973856</td>\n",
              "      <td>10</td>\n",
              "    </tr>\n",
              "    <tr>\n",
              "      <th>11</th>\n",
              "      <td>0.066339</td>\n",
              "      <td>0.990172</td>\n",
              "      <td>0.115578</td>\n",
              "      <td>0.973856</td>\n",
              "      <td>11</td>\n",
              "    </tr>\n",
              "    <tr>\n",
              "      <th>12</th>\n",
              "      <td>0.060781</td>\n",
              "      <td>0.993448</td>\n",
              "      <td>0.112191</td>\n",
              "      <td>0.970588</td>\n",
              "      <td>12</td>\n",
              "    </tr>\n",
              "    <tr>\n",
              "      <th>13</th>\n",
              "      <td>0.056765</td>\n",
              "      <td>0.993448</td>\n",
              "      <td>0.109442</td>\n",
              "      <td>0.970588</td>\n",
              "      <td>13</td>\n",
              "    </tr>\n",
              "    <tr>\n",
              "      <th>14</th>\n",
              "      <td>0.052844</td>\n",
              "      <td>0.993448</td>\n",
              "      <td>0.106237</td>\n",
              "      <td>0.973856</td>\n",
              "      <td>14</td>\n",
              "    </tr>\n",
              "  </tbody>\n",
              "</table>\n",
              "</div>"
            ],
            "text/plain": [
              "        loss       acc  val_loss   val_acc  epoch\n",
              "0   0.987687  0.746929  0.442094  0.898693      0\n",
              "1   0.329848  0.941851  0.281365  0.934641      1\n",
              "2   0.225500  0.959869  0.218481  0.944444      2\n",
              "3   0.174403  0.968059  0.192230  0.947712      3\n",
              "4   0.143698  0.977068  0.172205  0.947712      4\n",
              "5   0.123584  0.980344  0.157372  0.957516      5\n",
              "6   0.107461  0.980344  0.142528  0.970588      6\n",
              "7   0.096084  0.981982  0.134850  0.973856      7\n",
              "8   0.086526  0.982801  0.131934  0.973856      8\n",
              "9   0.078597  0.986896  0.123229  0.973856      9\n",
              "10  0.071506  0.990172  0.123046  0.973856     10\n",
              "11  0.066339  0.990172  0.115578  0.973856     11\n",
              "12  0.060781  0.993448  0.112191  0.970588     12\n",
              "13  0.056765  0.993448  0.109442  0.970588     13\n",
              "14  0.052844  0.993448  0.106237  0.973856     14"
            ]
          },
          "metadata": {
            "tags": []
          },
          "execution_count": 22
        }
      ]
    },
    {
      "cell_type": "code",
      "metadata": {
        "id": "ikTtUwA1DHS1",
        "colab_type": "code",
        "colab": {}
      },
      "source": [
        "\n",
        "fig, (ax0, ax1) = plt.subplots(nrows=2, sharex=True, figsize=(12, 6))\n",
        "history_df.plot(x=\"epoch\", y=[\"loss\", \"val_loss\"], ax=ax0)\n",
        "history_df.plot(x=\"epoch\", y=[\"acc\", \"val_acc\"], ax=ax1);"
      ],
      "execution_count": 0,
      "outputs": []
    },
    {
      "cell_type": "code",
      "metadata": {
        "id": "_V0Ls0bVEj5M",
        "colab_type": "code",
        "outputId": "44e01c1a-e579-41a4-d2cb-bd4d6bbde6d6",
        "colab": {
          "base_uri": "https://localhost:8080/",
          "height": 51
        }
      },
      "source": [
        "# monitor convergence with tensor board\n",
        "%load_ext tensorboard\n"
      ],
      "execution_count": 0,
      "outputs": [
        {
          "output_type": "stream",
          "text": [
            "The tensorboard extension is already loaded. To reload it, use:\n",
            "  %reload_ext tensorboard\n"
          ],
          "name": "stdout"
        }
      ]
    },
    {
      "cell_type": "code",
      "metadata": {
        "id": "NcUpHlu9FfTN",
        "colab_type": "code",
        "colab": {}
      },
      "source": [
        "!rm -rf tensorboard_logs\n"
      ],
      "execution_count": 0,
      "outputs": []
    },
    {
      "cell_type": "code",
      "metadata": {
        "id": "nwfdnVtCFiwK",
        "colab_type": "code",
        "outputId": "d79aa6fc-8c84-46d3-df72-1297af72c19c",
        "colab": {
          "base_uri": "https://localhost:8080/",
          "height": 615
        }
      },
      "source": [
        "\n",
        "import datetime \n",
        "from tensorflow.keras.callbacks import TensorBoard\n",
        "model = Sequential()\n",
        "model.add(Dense(hidden_dim, input_dim= input_dim, activation= \"tanh\"))\n",
        "model.add(Dense(output_dim, activation=\"softmax\"))\n",
        "model.compile(optimizer=optimizers.SGD(lr = 0.1), loss = 'categorical_crossentropy', metrics=['accuracy'])\n",
        "timestamp = datetime.datetime.now().strftime(\"%Y%m%d-%H%M%S\")\n",
        "log_dir = \"tensorboard_logs/\" + timestamp\n",
        "tensorboard_callback = TensorBoard(log_dir = log_dir, histogram_freq =1)\n",
        "model.fit(x=X_train, y= Y_train, validation_split= 0.2, epochs=15, callbacks=[tensorboard_callback])"
      ],
      "execution_count": 0,
      "outputs": [
        {
          "output_type": "stream",
          "text": [
            "Train on 1221 samples, validate on 306 samples\n",
            "Epoch 1/15\n",
            "WARNING:tensorflow:Method (on_train_batch_end) is slow compared to the batch update (0.275418). Check your callbacks.\n",
            "  32/1221 [..............................] - ETA: 11s - loss: 2.6076 - acc: 0.1562WARNING:tensorflow:Method (on_train_batch_end) is slow compared to the batch update (0.138877). Check your callbacks.\n",
            "1221/1221 [==============================] - 0s 386us/sample - loss: 0.9334 - acc: 0.7600 - val_loss: 0.4408 - val_acc: 0.9020\n",
            "Epoch 2/15\n",
            "1221/1221 [==============================] - 0s 95us/sample - loss: 0.3337 - acc: 0.9247 - val_loss: 0.2864 - val_acc: 0.9477\n",
            "Epoch 3/15\n",
            "1221/1221 [==============================] - 0s 92us/sample - loss: 0.2252 - acc: 0.9541 - val_loss: 0.2216 - val_acc: 0.9542\n",
            "Epoch 4/15\n",
            "1221/1221 [==============================] - 0s 108us/sample - loss: 0.1792 - acc: 0.9631 - val_loss: 0.1974 - val_acc: 0.9575\n",
            "Epoch 5/15\n",
            "1221/1221 [==============================] - 0s 95us/sample - loss: 0.1474 - acc: 0.9689 - val_loss: 0.1717 - val_acc: 0.9641\n",
            "Epoch 6/15\n",
            "1221/1221 [==============================] - 0s 93us/sample - loss: 0.1271 - acc: 0.9771 - val_loss: 0.1589 - val_acc: 0.9641\n",
            "Epoch 7/15\n",
            "1221/1221 [==============================] - 0s 92us/sample - loss: 0.1113 - acc: 0.9828 - val_loss: 0.1525 - val_acc: 0.9673\n",
            "Epoch 8/15\n",
            "1221/1221 [==============================] - 0s 88us/sample - loss: 0.0984 - acc: 0.9844 - val_loss: 0.1462 - val_acc: 0.9706\n",
            "Epoch 9/15\n",
            "1221/1221 [==============================] - 0s 92us/sample - loss: 0.0897 - acc: 0.9869 - val_loss: 0.1383 - val_acc: 0.9706\n",
            "Epoch 10/15\n",
            "1221/1221 [==============================] - 0s 104us/sample - loss: 0.0804 - acc: 0.9885 - val_loss: 0.1280 - val_acc: 0.9706\n",
            "Epoch 11/15\n",
            "1221/1221 [==============================] - 0s 92us/sample - loss: 0.0737 - acc: 0.9902 - val_loss: 0.1254 - val_acc: 0.9706\n",
            "Epoch 12/15\n",
            "1221/1221 [==============================] - 0s 91us/sample - loss: 0.0676 - acc: 0.9910 - val_loss: 0.1216 - val_acc: 0.9706\n",
            "Epoch 13/15\n",
            "1221/1221 [==============================] - 0s 89us/sample - loss: 0.0625 - acc: 0.9934 - val_loss: 0.1176 - val_acc: 0.9706\n",
            "Epoch 14/15\n",
            "1221/1221 [==============================] - 0s 93us/sample - loss: 0.0579 - acc: 0.9934 - val_loss: 0.1139 - val_acc: 0.9706\n",
            "Epoch 15/15\n",
            "1221/1221 [==============================] - 0s 90us/sample - loss: 0.0537 - acc: 0.9951 - val_loss: 0.1114 - val_acc: 0.9706\n"
          ],
          "name": "stdout"
        },
        {
          "output_type": "execute_result",
          "data": {
            "text/plain": [
              "<tensorflow.python.keras.callbacks.History at 0x7f517e5512b0>"
            ]
          },
          "metadata": {
            "tags": []
          },
          "execution_count": 29
        }
      ]
    },
    {
      "cell_type": "code",
      "metadata": {
        "id": "PvtKGljaHBqR",
        "colab_type": "code",
        "colab": {}
      },
      "source": [
        "%tensorboard --logdir tensorboard_logs\n"
      ],
      "execution_count": 0,
      "outputs": []
    },
    {
      "cell_type": "code",
      "metadata": {
        "id": "z0k8yNkuHNoR",
        "colab_type": "code",
        "colab": {}
      },
      "source": [
        "optimizers.Adam?"
      ],
      "execution_count": 0,
      "outputs": []
    },
    {
      "cell_type": "code",
      "metadata": {
        "id": "xqwytpRpIBR3",
        "colab_type": "code",
        "colab": {}
      },
      "source": [
        ""
      ],
      "execution_count": 0,
      "outputs": []
    }
  ]
}